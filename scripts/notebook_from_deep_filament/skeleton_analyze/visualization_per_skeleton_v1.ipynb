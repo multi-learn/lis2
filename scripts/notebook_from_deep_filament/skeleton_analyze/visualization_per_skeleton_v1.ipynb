import numpy as np

import dash
from dash import dcc, html
import dash_bootstrap_components as dbc
from dash.dependencies import Input, Output, State
import plotly.express as px
import plotly.graph_objects as go
from plotly.subplots import make_subplots

from sklearn.manifold import TSNE

import matplotlib.cm as cm

from utils_viz.clustering import clustering, get_distance_path, get_distance_wasser
from utils_viz.coloring_skeleton import create_clustered_scatter_plot
from noise import smooth_signal
from utils import *
from data_utils import *


path_3D = "dataset/testmin.fits"
data3d_reformated = open_fits_data(path_3D)

mask2d = open_fits_data("dataset/NH2_16p50_0p00_spine.fits")

option_skeleton = "scikit"
skeleton = get_skeleton(mask2d, option=option_skeleton)
skeleton_instances = get_skeleton_instances(skeleton)

skeleton_figure = px.imshow(skeleton_instances[0], title="skeleton", height=600, width=600)
skeleton_figure.update_yaxes(autorange='reversed')




marks_z = {i: str(i) for i in range(0, 788 + 1, 20)}
marks_eps = {i/10: str(i/10) for i in range(0, 11)}  
marks_fs = {i/10: str(i/10) for i in range(0, 16)}  
marks_d = {i/10: str(i/10) for i in range(0, 11)}  
app = dash.Dash(external_stylesheets=[dbc.themes.BOOTSTRAP])
# Layout
app.layout = dbc.Container([

    dbc.Row([dbc.Col([
        html.H1("Cutting Skeletons", style={'textAlign': 'center', 'marginBottom': '30px'}),
        html.H2("Explore Skeletons", style={'textAlign': 'center', 'marginBottom': '30px'}),
        html.Div("Skeleton index", style={'textAlign': 'center'}),  
        dcc.Slider(id='skeleton-slider', min=0, max=len(skeleton_instances) - 1, value=16, step=1),
        html.Div("Indice Z", style={'textAlign': 'center'}), 
        dcc.Slider(id='z-slider', min=0, max=data3d_reformated.shape[0] - 1, value=390, step=1, marks=marks_z)
    ], width=8, className="mx-auto")]),

    dbc.Row([
        dbc.Col(dcc.Graph(id='data3d-at-z-image'), width=4),
        dbc.Col(dcc.Graph(id='skeleton-image', figure=skeleton_figure), width=4),
        dbc.Col(dcc.Graph(id='superposed-skeleton-data3d-image'), width=4),
    ]),

    dbc.Row([dbc.Col([
        html.H2("Show Velocity Signals", style={'textAlign': 'center', 'marginBottom': '30px'}),
        dcc.Graph(id='value-plot')])
    ]),

    dbc.Row([
        dbc.Col(dcc.Graph(id='smoothed-plot'), width=9),
        dbc.Col([
            html.Div("Threshold du bruit", style={'textAlign': 'center'}),  
            dcc.Slider(id='noisethr-slider', min=0, max=1.5, step=0.025, value=0.3, marks=marks_fs),
        ], width=3),
    ]),

    dbc.Row([dbc.Col([
        html.H2("Show hist", style={'textAlign': 'center', 'marginBottom': '30px'}),
        dcc.Graph(id='hist-plot')])
    ]),
    
    dbc.Row([
        dbc.Col([
            html.H2("Clustering", style={'textAlign': 'center', 'marginBottom': '30px'}),
            html.H3("Set coefficient for different metrics", style={'textAlign': 'center', 'marginBottom': '30px'}),
            html.Div("Coef distance Wasserstein", style={'textAlign': 'center'}),
            dcc.Slider(id='alpha-slider', min=0, max=5, step=0.5, value=1),
            html.Div("Coef distance Path", style={'textAlign': 'center'}),
            dcc.Slider(id='beta-slider', min=0, max=5, step=0.5, value=0),
            html.Div(style={'height': '50px'}),
        ], width=6, className="mx-auto")
    ]),

    dbc.Row([
        dbc.Col(dcc.Graph(id='tsne-projection'), width=9),
        dbc.Col([
            html.Div("Perplexity", style={'textAlign': 'center'}), 
            dcc.Slider(id='perplexity-slider', min=0, max=50, value=5),
        ], width=3),
    ]),

    dbc.Row([
        dbc.Col(dcc.Graph(id='clustering-plot'), width=10),
        dbc.Col([
            html.Div("Méthode de Clustering", style={'textAlign': 'center'}),
            dcc.Dropdown(id='clustering-dropdown', 
                         options=[{'label': option, 'value': option} for option in ["DBSCAN", "AgglomerativeClustering"]], 
                         value="AgglomerativeClustering"),
            html.Div(style={'height': '50px'}),
            html.H3("Clustering Args", style={'textAlign': 'center', 'marginBottom': '30px'}),
            html.Div("Eps", style={'textAlign': 'center'}),  
            dcc.Slider(id='eps-slider', min=0, max=1, value=0.4, step=0.025, marks=marks_eps),
            html.Div("Min samples", style={'textAlign': 'center'}),  
            dcc.Slider(id='minsamples-slider', min=0, max=10, value=3, step=1),
            html.Div("Distance threshold", style={'textAlign': 'center'}),  
            dcc.Slider(id='distthr-slider', min=0, max=1, value=0.5, step=0.05, marks=marks_d),
        ], width=2),
    ]),

    dbc.Row([dcc.Graph(id='allclusters-plot')]),

    dbc.Row([dcc.Graph(id='allclusters-hist')]),

    dbc.Row([dcc.Graph(id='coloredsk-plot')]),

], fluid=True)


@app.callback(
    Output('data3d-at-z-image', 'figure'),
    Output('skeleton-image', 'figure'),
    Output('superposed-skeleton-data3d-image', 'figure'),
    Input('skeleton-slider', 'value'),
    Input('z-slider', 'value'),
)
def update_image(skeleton_index, selected_z):

    skeleton_figure = px.imshow(skeleton_instances[skeleton_index], title="skeleton", height=600, width=600)
    skeleton_figure.update_yaxes(autorange='reversed')  # Inverser l'axe Y

    image_data = data3d_reformated[selected_z, :, :]
    image_fig = px.imshow(image_data, color_continuous_scale='Viridis', title="Image at z={}".format(selected_z), height=600, width=600)
    
    height, width = mask2d.shape
    color_image1 = np.zeros((height, width, 3))  # For pink
    color_image1[skeleton_instances[skeleton_index].astype(bool)] = [1, 0.75, 0.8]  # RGB for pink
    color_image2 = data3d_reformated[selected_z,:,:]
    normed_image2 = (color_image2 - np.min(color_image2)) / (np.max(color_image2) - np.min(color_image2))
    viridis = cm.get_cmap('viridis')
    color_image2_rgb = viridis(normed_image2)[..., :3]  # On prend uniquement les 3 premières composantes (RGB)
    blended_image = color_image1 + color_image2_rgb
    blended_image = np.clip(blended_image, 0, 1)  # Limiter les valeurs RGB à 1
    superposed_fig =  px.imshow(blended_image, title="blended_image at z={}".format(selected_z), height=600, width=600)

    return image_fig, skeleton_figure, superposed_fig


@app.callback(
    [Output('eps-slider', 'disabled'),
     Output('minsamples-slider', 'disabled'),
     Output('distthr-slider', 'disabled')],
    [Input('clustering-dropdown', 'value')]
)
def update_clustering_sliders(clustering_method):
    if clustering_method == 'DBSCAN':
        return False, False, True 
    else:
        return True, True, False 


@app.callback(
    Output('value-plot', 'figure'),
    Output('smoothed-plot', 'figure'),
    Output('hist-plot', 'figure'),
    Input('skeleton-slider', 'value'),
    Input('noisethr-slider', 'value'),
)
def update_plots_signals(skeleton_index, noisethr):

    converted_z_values = convert_to_kms(path_3D)

    y_coords, x_coords = np.where(skeleton_instances[skeleton_index] == 1)

    value_fig = go.Figure()
    hist_fig = go.Figure()
    smoothed_fig = go.Figure()

    common_bin_edges = np.linspace(-0.5, 4, 26)  

    for i, (x, y) in enumerate(zip(x_coords, y_coords)):
        values = data3d_reformated[:, y, x]        
        value_fig.add_trace(go.Scatter(x=converted_z_values, y=values, mode='lines', 
                                    name=f"Values at x={x}, y={y}", 
                                    line=dict(color=px.colors.qualitative.Plotly[i % 10])))
        
        smoothed_signal = smooth_signal(values, noisethr)
        smoothed_fig.add_trace(go.Scatter(x=converted_z_values, y=smoothed_signal, mode='lines', 
                                        name=f"Smoothed at x={x}, y={y}", 
                                        line=dict(color=px.colors.qualitative.Plotly[i % 10])))
        
        data_hist, bin_centers = get_histogram(smoothed_signal, common_bin_edges)
        hist_fig.add_trace(go.Bar(
            x=bin_centers, 
            y=data_hist, 
            width=np.diff(common_bin_edges),  
            name=f'Signal at x={x}, y={y}',
            marker=dict(color=px.colors.qualitative.Plotly[i % 10])
        ))

    value_fig.update_layout(title="Values at Multiple (x, y) Coordinates",
                            xaxis_title='Velocity km/s', yaxis_title='Temp K')
    smoothed_fig.update_layout(title="Smoothed Values at Multiple (x, y) Coordinates",
                            xaxis_title='Velocity km/s', yaxis_title='Temp K')
    hist_fig.update_layout(title="Histogram Values at Multiple (x, y) Coordinates",
                            xaxis_title='Temp K', yaxis_title='Density')
    return value_fig, smoothed_fig, hist_fig


# Callback to update the plots
@app.callback(
    Output('tsne-projection', 'figure'),
    Output('clustering-plot', 'figure'),
    Output('allclusters-plot', 'figure'),
    Output('allclusters-hist', 'figure'),
    Output('coloredsk-plot', 'figure'),
    Input('skeleton-slider', 'value'),
    Input('noisethr-slider', 'value'),
    Input('alpha-slider', 'value'),
    Input('beta-slider', 'value'),
    Input('perplexity-slider', 'value'),
    Input('clustering-dropdown', 'value'),
    Input('eps-slider', 'value'),
    Input('minsamples-slider', 'value'),
    Input('distthr-slider', 'value'),
)
def update_graph(skeleton_index, noisethr, alpha, beta, perplexity, clustering_method, eps, minsamples, distthr):

    converted_z_values = convert_to_kms(path_3D)

    common_bin_edges = np.linspace(-0.5, 4, 26)  

    y_coords, x_coords = np.where(skeleton_instances[skeleton_index] == 1)
    points = list(zip(x_coords, y_coords))

    smoothed_signals = []
    for i, (x, y) in enumerate(points):
        smoothed_signal = smooth_signal(data3d_reformated[:, y, x], noisethr)
        smoothed_signals.append(smoothed_signal)

    n_signals = len(smoothed_signals)

    distance_matrix_path = get_distance_path(n_signals, points)
    distance_matrix_wasser = get_distance_wasser(n_signals, common_bin_edges, smoothed_signals)
    distance_matrix = alpha  * distance_matrix_wasser + beta * distance_matrix_path
    max_distance = np.max(distance_matrix)  
    if max_distance > 0:  
        distance_matrix = distance_matrix / max_distance  

    cluster_data, cluster_names, labels, cluster_profiles_df = clustering(clustering_method, smoothed_signals, points,
                                                      distance_matrix=distance_matrix, 
                                                      eps_dbscan=eps, min_samples=minsamples, 
                                                      distance_threshold=distthr)

    tsne = TSNE(n_components=2, metric='precomputed', perplexity=perplexity, random_state=42, init="random")
    tsne_results = tsne.fit_transform(distance_matrix)
    tsne_fig = go.Figure()
    tsne_fig.add_trace(go.Scatter(
        x=tsne_results[:, 0], 
        y=tsne_results[:, 1],
        mode='markers',
        marker=dict(size=10, color=np.arange(len(tsne_results)), colorscale='Viridis'),
        text=["Signal at ({}, {}) in cluster {}".format(points[i][0], points[i][1], labels[i]) for i in range(len(tsne_results))], 
        showlegend=False))
    tsne_fig.update_layout(
        title="t-SNE plot of signals based on Wasserstein distance",
        xaxis_title="t-SNE 1",
        yaxis_title="t-SNE 2",
        template="plotly_dark",
        xaxis_range=[-80, 80],
        yaxis_range=[-80, 80])


    clustering_fig = go.Figure()
    for i in range(len(cluster_profiles_df)):
        clustering_fig.add_trace(go.Scatter(
            x=converted_z_values,  
            y=cluster_profiles_df.iloc[i, :-1], 
            mode='lines+markers',
            name=f'Cluster {i}',
            text=f'Cluster {i}',
            line=dict(width=2),
            marker=dict(size=6)))
    clustering_fig.update_layout(
        title='Cluster Profiles Based on Original Data',
        xaxis_title='Velocity km/s',
        yaxis_title='Mean Temp K ',
        showlegend=True
    )

    num_clusters = len(cluster_data)

    all_clusters_fig = make_subplots(rows=num_clusters, cols=1)
    for i, (cluster_name, signals) in enumerate(cluster_data.items()):
        for j, signal in enumerate(signals):
            all_clusters_fig.add_trace(go.Scatter(
                x=converted_z_values,
                y=signal,
                mode='lines',
                text="Signal at ({}, {})".format(cluster_names[cluster_name][j][0], cluster_names[cluster_name][j][1]), 
            ), row=i + 1, col=1)
    # Update axis titles for each row (cluster)
    all_clusters_fig.update_xaxes(title_text=f"Velocity km/s", row=i + 1, col=1)
    all_clusters_fig.update_yaxes(title_text=f"Temp K", row=i + 1, col=1)

    all_clusters_fig.update_layout(
        title="Signals in Each Cluster",
        height=300 * num_clusters)

    all_clusters_hist_fig = make_subplots(rows=num_clusters, cols=1)
    for i, (cluster_name, signals) in enumerate(cluster_data.items()):
        for j, signal in enumerate(signals):
            data_hist, bin_centers = get_histogram(signal, common_bin_edges)
            bin_centers = 0.5 * (common_bin_edges[:-1] + common_bin_edges[1:])
            all_clusters_hist_fig.add_trace(go.Bar(
                x=bin_centers, 
                y=data_hist, 
                width=np.diff(common_bin_edges),  
                opacity=0.7,
                name="Signal at ({}, {})".format(cluster_names[cluster_name][j][0], cluster_names[cluster_name][j][1]), 
                marker=dict(color=px.colors.qualitative.Plotly[i % 10])
            ), row=i + 1, col=1)
    all_clusters_hist_fig.update_xaxes(title_text=f"Temp K", row=i + 1, col=1)
    all_clusters_hist_fig.update_yaxes(title_text=f"Density", row=i + 1, col=1)
    all_clusters_hist_fig.update_layout(
        title="Signals in Each Cluster",
        height=300 * num_clusters)

    colored_sk_fig = create_clustered_scatter_plot(points, labels)

    return tsne_fig, clustering_fig, all_clusters_fig, all_clusters_hist_fig, colored_sk_fig




# Run the Dash app
if __name__ == '__main__':
    app.run_server(debug=True)
