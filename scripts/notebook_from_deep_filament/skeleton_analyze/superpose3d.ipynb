{
 "cells": [
  {
   "cell_type": "code",
   "execution_count": 1,
   "metadata": {},
   "outputs": [],
   "source": [
    "from utils import *\n",
    "import cv2\n"
   ]
  },
  {
   "cell_type": "markdown",
   "metadata": {},
   "source": [
    "## mask"
   ]
  },
  {
   "cell_type": "code",
   "execution_count": null,
   "metadata": {},
   "outputs": [],
   "source": [
    "mask2d = open_fits_data(\"dataset/NH2_16p50_0p00_spine.fits\")"
   ]
  },
  {
   "cell_type": "markdown",
   "metadata": {},
   "source": [
    "# skeleton"
   ]
  },
  {
   "cell_type": "code",
   "execution_count": 3,
   "metadata": {},
   "outputs": [],
   "source": [
    "import skimage.morphology as morph\n",
    "\n",
    "skeleton = morph.skeletonize(mask2d)"
   ]
  },
  {
   "cell_type": "code",
   "execution_count": null,
   "metadata": {},
   "outputs": [],
   "source": [
    "skeleton.shape"
   ]
  },
  {
   "cell_type": "markdown",
   "metadata": {},
   "source": [
    "# skeletons instances"
   ]
  },
  {
   "cell_type": "code",
   "execution_count": 5,
   "metadata": {},
   "outputs": [],
   "source": [
    "import numpy as np\n",
    "import skimage.morphology as morph\n",
    "import skimage.measure as measure\n",
    "import skimage.io as io"
   ]
  },
  {
   "cell_type": "code",
   "execution_count": 6,
   "metadata": {},
   "outputs": [],
   "source": [
    "labeled_skeleton, num_labels = measure.label(skeleton, return_num=True, connectivity=2)"
   ]
  },
  {
   "cell_type": "code",
   "execution_count": 7,
   "metadata": {},
   "outputs": [],
   "source": [
    "# Créer une liste pour stocker les images de chaque squelette\n",
    "skeleton_images = []\n",
    "\n",
    "# Extraire chaque squelette\n",
    "for label in range(1, num_labels + 1):\n",
    "    # Créer une image pour le squelette courant\n",
    "    individual_skeleton = (labeled_skeleton == label).astype(np.uint8)\n",
    "    skeleton_images.append(individual_skeleton)"
   ]
  },
  {
   "cell_type": "code",
   "execution_count": null,
   "metadata": {},
   "outputs": [],
   "source": [
    "len(skeleton_images)"
   ]
  },
  {
   "cell_type": "code",
   "execution_count": null,
   "metadata": {},
   "outputs": [],
   "source": [
    "skeleton_images[0].shape"
   ]
  },
  {
   "cell_type": "code",
   "execution_count": null,
   "metadata": {},
   "outputs": [],
   "source": [
    "show_fits_data(skeleton)"
   ]
  },
  {
   "cell_type": "code",
   "execution_count": null,
   "metadata": {},
   "outputs": [],
   "source": [
    "show_fits_data(skeleton_images[20])"
   ]
  },
  {
   "cell_type": "markdown",
   "metadata": {},
   "source": [
    "# Match mask together"
   ]
  },
  {
   "cell_type": "code",
   "execution_count": 12,
   "metadata": {},
   "outputs": [],
   "source": [
    "chosen_skeleton = skeleton_images[20]"
   ]
  },
  {
   "cell_type": "code",
   "execution_count": null,
   "metadata": {},
   "outputs": [],
   "source": [
    "data3d_reformated = open_fits_data(\"dataset/testmin.fits\")\n",
    "image_nan_locs = np.isnan(data3d_reformated)\n",
    "data3d_reformated[image_nan_locs] = 0"
   ]
  },
  {
   "cell_type": "code",
   "execution_count": null,
   "metadata": {},
   "outputs": [],
   "source": [
    "data3d_reformated.min()"
   ]
  },
  {
   "cell_type": "code",
   "execution_count": null,
   "metadata": {},
   "outputs": [],
   "source": [
    "show_fits_data(data3d_reformated[390,:,:])"
   ]
  },
  {
   "cell_type": "code",
   "execution_count": 16,
   "metadata": {},
   "outputs": [],
   "source": [
    "mask3D = np.empty(data3d_reformated.shape)\n",
    "\n",
    "for i in range(data3d_reformated.shape[0]):\n",
    "    gray_image = data3d_reformated[i, :, :]\n",
    "\n",
    "    min_value = np.min(gray_image)\n",
    "    shifted_image = gray_image - min_value\n",
    "    max_value = np.max(shifted_image)\n",
    "    normalized_image = shifted_image / max_value\n",
    "\n",
    "    blurred_image = cv2.GaussianBlur(normalized_image, (5, 5), 1)  # kernel size (5,5) and sigma=1\n",
    "\n",
    "    temp_image = (blurred_image * 255).astype(np.uint8)\n",
    "    _, otsu_mask = cv2.threshold(temp_image, 0, 255, cv2.THRESH_BINARY + cv2.THRESH_OTSU)\n",
    "    otsu_mask = otsu_mask / 255  # Normalize mask to [0,1]\n",
    "\n",
    "    # Create an elliptical kernel\n",
    "    elliptical_kernel = cv2.getStructuringElement(cv2.MORPH_ELLIPSE, (3, 3))\n",
    "    cleaned_mask = cv2.morphologyEx(otsu_mask, cv2.MORPH_OPEN, elliptical_kernel, iterations=1)\n",
    "    dilated_mask = cv2.dilate(cleaned_mask, elliptical_kernel, iterations=1)\n",
    "\n",
    "    # Save the resulting mask\n",
    "    mask3D[i, :, :] = dilated_mask\n"
   ]
  },
  {
   "cell_type": "code",
   "execution_count": null,
   "metadata": {},
   "outputs": [],
   "source": [
    "from matplotlib.colors import ListedColormap\n",
    " \n",
    "i = 390\n",
    "\n",
    "# Create empty RGB arrays for the colored images\n",
    "height, width = mask2d.shape\n",
    "color_image1 = np.zeros((height, width, 3))  # For pink\n",
    "color_image2 = np.zeros((height, width, 3))  # For green\n",
    "color_image2 = np.zeros((height, width, 3))  # For green\n",
    "\n",
    "# Color the first image (pink)\n",
    "color_image1[chosen_skeleton.astype(bool)] = [1, 0.75, 0.8]  # RGB for pink\n",
    "\n",
    "# Color the second image (green)\n",
    "color_image2[mask3D[i,:,:].astype(bool)] = [0, 1, 0]  # RGB for green\n",
    "\n",
    "# Blend the two images by adding the RGB values and clipping them to 1 (since RGB values range from 0 to 1)\n",
    "blended_image = color_image1 + color_image2\n",
    "blended_image = np.clip(blended_image, 0, 1)  # Ensures no values go over 1\n",
    "\n",
    "# Create a figure and display the images\n",
    "plt.figure(figsize=(20, 15))\n",
    "\n",
    "plt.subplot(1, 4, 1)\n",
    "plt.title('Skeleton (Pink)')\n",
    "plt.imshow(color_image1)\n",
    "plt.axis('off')\n",
    "\n",
    "plt.subplot(1, 4, 2)\n",
    "plt.title('Data 3d sur i')\n",
    "plt.imshow(data3d_reformated[i,:,:])\n",
    "plt.axis('off')\n",
    "\n",
    "plt.subplot(1, 4, 3)\n",
    "plt.title('Mask data 3d(Green) sur i')\n",
    "plt.imshow(color_image2)\n",
    "plt.axis('off')\n",
    "\n",
    "plt.subplot(1, 4, 4)\n",
    "plt.title('Superposed Image')\n",
    "plt.imshow(blended_image)\n",
    "plt.axis('off')\n",
    "\n",
    "plt.tight_layout()\n",
    "plt.show()"
   ]
  },
  {
   "cell_type": "code",
   "execution_count": null,
   "metadata": {},
   "outputs": [],
   "source": [
    "data3d_reformated.shape"
   ]
  },
  {
   "cell_type": "markdown",
   "metadata": {},
   "source": [
    "# Option 1"
   ]
  },
  {
   "cell_type": "code",
   "execution_count": 24,
   "metadata": {},
   "outputs": [
    {
     "name": "stdout",
     "output_type": "stream",
     "text": [
      "(np.int64(66), np.int64(201))\n",
      "(np.int64(67), np.int64(201))\n",
      "(np.int64(68), np.int64(201))\n",
      "(np.int64(69), np.int64(201))\n",
      "(np.int64(70), np.int64(201))\n",
      "(np.int64(64), np.int64(202))\n",
      "(np.int64(65), np.int64(202))\n",
      "(np.int64(71), np.int64(202))\n",
      "(np.int64(54), np.int64(203))\n",
      "(np.int64(62), np.int64(203))\n",
      "(np.int64(63), np.int64(203))\n",
      "(np.int64(71), np.int64(203))\n",
      "(np.int64(72), np.int64(203))\n",
      "(np.int64(73), np.int64(203))\n",
      "(np.int64(74), np.int64(203))\n",
      "(np.int64(54), np.int64(204))\n",
      "(np.int64(61), np.int64(204))\n",
      "(np.int64(70), np.int64(204))\n",
      "(np.int64(54), np.int64(205))\n",
      "(np.int64(61), np.int64(205))\n",
      "(np.int64(55), np.int64(206))\n",
      "(np.int64(56), np.int64(206))\n",
      "(np.int64(57), np.int64(206))\n",
      "(np.int64(58), np.int64(206))\n",
      "(np.int64(60), np.int64(206))\n",
      "(np.int64(59), np.int64(207))\n",
      "(np.int64(60), np.int64(207))\n",
      "(np.int64(61), np.int64(208))\n",
      "(np.int64(61), np.int64(209))\n",
      "(np.int64(61), np.int64(210))\n",
      "(np.int64(61), np.int64(211))\n",
      "(np.int64(61), np.int64(212))\n",
      "(np.int64(61), np.int64(213))\n",
      "(np.int64(61), np.int64(214))\n",
      "(np.int64(61), np.int64(215))\n",
      "(np.int64(62), np.int64(216))\n",
      "(np.int64(63), np.int64(217))\n",
      "(np.int64(63), np.int64(218))\n",
      "(np.int64(63), np.int64(219))\n",
      "(np.int64(62), np.int64(220))\n",
      "(np.int64(62), np.int64(221))\n",
      "(np.int64(62), np.int64(222))\n",
      "(np.int64(62), np.int64(223))\n",
      "(np.int64(86), np.int64(223))\n",
      "(np.int64(87), np.int64(223))\n",
      "(np.int64(56), np.int64(224))\n",
      "(np.int64(62), np.int64(224))\n",
      "(np.int64(85), np.int64(224))\n",
      "(np.int64(57), np.int64(225))\n",
      "(np.int64(58), np.int64(225))\n",
      "(np.int64(59), np.int64(225))\n",
      "(np.int64(60), np.int64(225))\n",
      "(np.int64(61), np.int64(225))\n",
      "(np.int64(62), np.int64(225))\n",
      "(np.int64(70), np.int64(225))\n",
      "(np.int64(84), np.int64(225))\n",
      "(np.int64(57), np.int64(226))\n",
      "(np.int64(63), np.int64(226))\n",
      "(np.int64(64), np.int64(226))\n",
      "(np.int64(65), np.int64(226))\n",
      "(np.int64(66), np.int64(226))\n",
      "(np.int64(67), np.int64(226))\n",
      "(np.int64(68), np.int64(226))\n",
      "(np.int64(69), np.int64(226))\n",
      "(np.int64(71), np.int64(226))\n",
      "(np.int64(72), np.int64(226))\n",
      "(np.int64(73), np.int64(226))\n",
      "(np.int64(74), np.int64(226))\n",
      "(np.int64(83), np.int64(226))\n",
      "(np.int64(57), np.int64(227))\n",
      "(np.int64(75), np.int64(227))\n",
      "(np.int64(82), np.int64(227))\n",
      "(np.int64(56), np.int64(228))\n",
      "(np.int64(76), np.int64(228))\n",
      "(np.int64(77), np.int64(228))\n",
      "(np.int64(78), np.int64(228))\n",
      "(np.int64(79), np.int64(228))\n",
      "(np.int64(80), np.int64(228))\n",
      "(np.int64(81), np.int64(228))\n",
      "(np.int64(56), np.int64(229))\n",
      "(np.int64(76), np.int64(229))\n",
      "(np.int64(81), np.int64(229))\n",
      "(np.int64(90), np.int64(229))\n",
      "(np.int64(56), np.int64(230))\n",
      "(np.int64(75), np.int64(230))\n",
      "(np.int64(81), np.int64(230))\n",
      "(np.int64(89), np.int64(230))\n",
      "(np.int64(82), np.int64(231))\n",
      "(np.int64(89), np.int64(231))\n",
      "(np.int64(83), np.int64(232))\n",
      "(np.int64(84), np.int64(232))\n",
      "(np.int64(85), np.int64(232))\n",
      "(np.int64(88), np.int64(232))\n",
      "(np.int64(89), np.int64(232))\n",
      "(np.int64(90), np.int64(232))\n",
      "(np.int64(86), np.int64(233))\n",
      "(np.int64(87), np.int64(233))\n",
      "(np.int64(91), np.int64(233))\n",
      "(np.int64(91), np.int64(234))\n",
      "(np.int64(91), np.int64(235))\n",
      "(np.int64(92), np.int64(236))\n",
      "(np.int64(93), np.int64(236))\n",
      "(np.int64(94), np.int64(237))\n",
      "(np.int64(99), np.int64(237))\n",
      "(np.int64(100), np.int64(237))\n",
      "(np.int64(101), np.int64(237))\n",
      "(np.int64(102), np.int64(237))\n",
      "(np.int64(95), np.int64(238))\n",
      "(np.int64(96), np.int64(238))\n",
      "(np.int64(97), np.int64(238))\n",
      "(np.int64(98), np.int64(238))\n",
      "(np.int64(103), np.int64(238))\n",
      "(np.int64(104), np.int64(239))\n",
      "(np.int64(105), np.int64(239))\n",
      "(np.int64(106), np.int64(239))\n",
      "(np.int64(104), np.int64(240))\n",
      "(np.int64(104), np.int64(241))\n",
      "(np.int64(101), np.int64(242))\n",
      "(np.int64(103), np.int64(242))\n",
      "(np.int64(102), np.int64(243))\n",
      "(np.int64(102), np.int64(244))\n",
      "(np.int64(101), np.int64(245))\n",
      "(np.int64(99), np.int64(246))\n",
      "(np.int64(100), np.int64(246))\n"
     ]
    }
   ],
   "source": [
    "y_coords, x_coords = np.where(chosen_skeleton == 1)\n",
    "# Combiner les coordonnées dans un tableau ou une liste\n",
    "coordinates = list(zip(x_coords, y_coords))\n",
    "\n",
    "# Afficher les coordonnées\n",
    "for coord in coordinates:\n",
    "    print(coord)"
   ]
  },
  {
   "cell_type": "code",
   "execution_count": 1,
   "metadata": {},
   "outputs": [
    {
     "name": "stdout",
     "output_type": "stream",
     "text": [
      "Collecting seaborn\n",
      "  Using cached seaborn-0.13.2-py3-none-any.whl.metadata (5.4 kB)\n",
      "Requirement already satisfied: numpy!=1.24.0,>=1.20 in ./venv/lib/python3.10/site-packages (from seaborn) (2.1.1)\n",
      "Requirement already satisfied: pandas>=1.2 in ./venv/lib/python3.10/site-packages (from seaborn) (2.2.3)\n",
      "Requirement already satisfied: matplotlib!=3.6.1,>=3.4 in ./venv/lib/python3.10/site-packages (from seaborn) (3.9.2)\n",
      "Requirement already satisfied: contourpy>=1.0.1 in ./venv/lib/python3.10/site-packages (from matplotlib!=3.6.1,>=3.4->seaborn) (1.3.0)\n",
      "Requirement already satisfied: cycler>=0.10 in ./venv/lib/python3.10/site-packages (from matplotlib!=3.6.1,>=3.4->seaborn) (0.12.1)\n",
      "Requirement already satisfied: fonttools>=4.22.0 in ./venv/lib/python3.10/site-packages (from matplotlib!=3.6.1,>=3.4->seaborn) (4.53.1)\n",
      "Requirement already satisfied: kiwisolver>=1.3.1 in ./venv/lib/python3.10/site-packages (from matplotlib!=3.6.1,>=3.4->seaborn) (1.4.7)\n",
      "Requirement already satisfied: packaging>=20.0 in ./venv/lib/python3.10/site-packages (from matplotlib!=3.6.1,>=3.4->seaborn) (24.1)\n",
      "Requirement already satisfied: pillow>=8 in ./venv/lib/python3.10/site-packages (from matplotlib!=3.6.1,>=3.4->seaborn) (10.4.0)\n",
      "Requirement already satisfied: pyparsing>=2.3.1 in ./venv/lib/python3.10/site-packages (from matplotlib!=3.6.1,>=3.4->seaborn) (3.1.4)\n",
      "Requirement already satisfied: python-dateutil>=2.7 in ./venv/lib/python3.10/site-packages (from matplotlib!=3.6.1,>=3.4->seaborn) (2.9.0.post0)\n",
      "Requirement already satisfied: pytz>=2020.1 in ./venv/lib/python3.10/site-packages (from pandas>=1.2->seaborn) (2024.2)\n",
      "Requirement already satisfied: tzdata>=2022.7 in ./venv/lib/python3.10/site-packages (from pandas>=1.2->seaborn) (2024.2)\n",
      "Requirement already satisfied: six>=1.5 in ./venv/lib/python3.10/site-packages (from python-dateutil>=2.7->matplotlib!=3.6.1,>=3.4->seaborn) (1.16.0)\n",
      "Using cached seaborn-0.13.2-py3-none-any.whl (294 kB)\n",
      "Installing collected packages: seaborn\n",
      "Successfully installed seaborn-0.13.2\n",
      "\n",
      "\u001b[1m[\u001b[0m\u001b[34;49mnotice\u001b[0m\u001b[1;39;49m]\u001b[0m\u001b[39;49m A new release of pip is available: \u001b[0m\u001b[31;49m24.1.2\u001b[0m\u001b[39;49m -> \u001b[0m\u001b[32;49m24.2\u001b[0m\n",
      "\u001b[1m[\u001b[0m\u001b[34;49mnotice\u001b[0m\u001b[1;39;49m]\u001b[0m\u001b[39;49m To update, run: \u001b[0m\u001b[32;49mpip install --upgrade pip\u001b[0m\n"
     ]
    }
   ],
   "source": [
    "import sys\n",
    "!{sys.executable} -m pip install seaborn\n"
   ]
  },
  {
   "cell_type": "code",
   "execution_count": null,
   "metadata": {},
   "outputs": [],
   "source": []
  },
  {
   "cell_type": "code",
   "execution_count": null,
   "metadata": {},
   "outputs": [],
   "source": []
  }
 ],
 "metadata": {
  "kernelspec": {
   "display_name": "venv",
   "language": "python",
   "name": "python3"
  },
  "language_info": {
   "codemirror_mode": {
    "name": "ipython",
    "version": 3
   },
   "file_extension": ".py",
   "mimetype": "text/x-python",
   "name": "python",
   "nbconvert_exporter": "python",
   "pygments_lexer": "ipython3",
   "version": "3.10.12"
  }
 },
 "nbformat": 4,
 "nbformat_minor": 2
}
